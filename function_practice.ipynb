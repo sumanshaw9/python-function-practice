{
  "nbformat": 4,
  "nbformat_minor": 0,
  "metadata": {
    "colab": {
      "provenance": [],
      "authorship_tag": "ABX9TyOrNG2bAm3jTCMJXp8z4BGd",
      "include_colab_link": true
    },
    "kernelspec": {
      "name": "python3",
      "display_name": "Python 3"
    },
    "language_info": {
      "name": "python"
    }
  },
  "cells": [
    {
      "cell_type": "markdown",
      "metadata": {
        "id": "view-in-github",
        "colab_type": "text"
      },
      "source": [
        "<a href=\"https://colab.research.google.com/github/sumanshaw9/python-function-practice/blob/main/function_practice.ipynb\" target=\"_parent\"><img src=\"https://colab.research.google.com/assets/colab-badge.svg\" alt=\"Open In Colab\"/></a>"
      ]
    },
    {
      "cell_type": "markdown",
      "source": [
        "**1.Write a Python function that takes a list of numbers as input and returns the sum of all even numbers in the list.**\n"
      ],
      "metadata": {
        "id": "5gZ9DfdNipkj"
      }
    },
    {
      "cell_type": "code",
      "source": [
        "def sum_even(a): #defining a func sum_even\n",
        "  sum= 0\n",
        "  for i in a:      #for iteration of every value in list\n",
        "    if i%2 == 0:   #even condition\n",
        "      sum+=i\n",
        "  return sum"
      ],
      "metadata": {
        "id": "JweH0ZaM4To8"
      },
      "execution_count": 3,
      "outputs": []
    },
    {
      "cell_type": "code",
      "source": [
        "a= [2,6,9,8,7,10]\n",
        "sum_even(a)"
      ],
      "metadata": {
        "colab": {
          "base_uri": "https://localhost:8080/"
        },
        "id": "Vr8kLG4U5C87",
        "outputId": "18edec31-ec70-4f35-ba6e-eab286f53b6f"
      },
      "execution_count": 5,
      "outputs": [
        {
          "output_type": "execute_result",
          "data": {
            "text/plain": [
              "26"
            ]
          },
          "metadata": {},
          "execution_count": 5
        }
      ]
    },
    {
      "cell_type": "markdown",
      "source": [
        "**2. Create a Python function that accepts a string and returns the reverse of that string.**"
      ],
      "metadata": {
        "id": "kEEw9Dfr53Yg"
      }
    },
    {
      "cell_type": "code",
      "source": [
        "def rev_str(a):\n",
        "  if type(a)== str:\n",
        "    return a[::-1]\n"
      ],
      "metadata": {
        "id": "1SQpEYfx5Om_"
      },
      "execution_count": 21,
      "outputs": []
    },
    {
      "cell_type": "code",
      "source": [
        "a=\"suman\"\n",
        "rev_str(a)"
      ],
      "metadata": {
        "colab": {
          "base_uri": "https://localhost:8080/",
          "height": 36
        },
        "id": "VxM0p_S37Q4j",
        "outputId": "0ec5e171-3acc-4b27-f34e-bb2d67474e5f"
      },
      "execution_count": 22,
      "outputs": [
        {
          "output_type": "execute_result",
          "data": {
            "text/plain": [
              "'namus'"
            ],
            "application/vnd.google.colaboratory.intrinsic+json": {
              "type": "string"
            }
          },
          "metadata": {},
          "execution_count": 22
        }
      ]
    },
    {
      "cell_type": "code",
      "source": [
        "a=[5,6,7,8,9] #output not executed because input of a is not str,\n",
        "rev_str(a)"
      ],
      "metadata": {
        "id": "MVlbucA97VOn"
      },
      "execution_count": 23,
      "outputs": []
    },
    {
      "cell_type": "markdown",
      "source": [
        "**3. Implement a Python function that takes a list of integers and returns a new list containing the squares of each number.**"
      ],
      "metadata": {
        "id": "8tDK2s2xVNZP"
      }
    },
    {
      "cell_type": "code",
      "source": [
        "def square_num(a):\n",
        "  l=[]\n",
        "  for i in a:\n",
        "    sq=i**2\n",
        "    l.append(sq)\n",
        "  return l\n",
        "a=[1,2,3,4,5]\n",
        "square_num(a)"
      ],
      "metadata": {
        "colab": {
          "base_uri": "https://localhost:8080/"
        },
        "id": "5MydrAKWG80h",
        "outputId": "c062494a-ce85-472e-dc80-15b86bac5cc1"
      },
      "execution_count": 28,
      "outputs": [
        {
          "output_type": "execute_result",
          "data": {
            "text/plain": [
              "[1, 4, 9, 16, 25]"
            ]
          },
          "metadata": {},
          "execution_count": 28
        }
      ]
    },
    {
      "cell_type": "markdown",
      "source": [
        "**4. Write a Python function that checks if a given number is prime or not from 1 to 200.**"
      ],
      "metadata": {
        "id": "l8zV-M57ipv5"
      }
    },
    {
      "cell_type": "code",
      "source": [
        "def is_prime(num): #defining a function that checks num is prime or not\n",
        "  if num==0 or num==1: #as we know 0 and 1 is not a prime so we can exclude these using this condition\n",
        "    return False\n",
        "\n",
        "  count=0\n",
        "  for i in range(2,(num//2)+1,1): #condition for checking prime\n",
        "    if num%i == 0:\n",
        "      count+=1\n",
        "\n",
        "  if count == 0:\n",
        "    return True\n",
        "  else:\n",
        "    return False\n",
        "\n",
        "for i in range(1,201,1):\n",
        "  if is_prime(i)== True: #calling a is_prime func\n",
        "    print(f\"{i} is a prime number\")\n",
        "  else:\n",
        "    print(f\"{i} is not prime number\")\n"
      ],
      "metadata": {
        "colab": {
          "base_uri": "https://localhost:8080/"
        },
        "id": "VpcOX_SFWcW_",
        "outputId": "5c1d09b4-c3cd-4f27-8e3f-f703de7e0ef4"
      },
      "execution_count": 1,
      "outputs": [
        {
          "output_type": "stream",
          "name": "stdout",
          "text": [
            "1 is not prime number\n",
            "2 is a prime number\n",
            "3 is a prime number\n",
            "4 is not prime number\n",
            "5 is a prime number\n",
            "6 is not prime number\n",
            "7 is a prime number\n",
            "8 is not prime number\n",
            "9 is not prime number\n",
            "10 is not prime number\n",
            "11 is a prime number\n",
            "12 is not prime number\n",
            "13 is a prime number\n",
            "14 is not prime number\n",
            "15 is not prime number\n",
            "16 is not prime number\n",
            "17 is a prime number\n",
            "18 is not prime number\n",
            "19 is a prime number\n",
            "20 is not prime number\n",
            "21 is not prime number\n",
            "22 is not prime number\n",
            "23 is a prime number\n",
            "24 is not prime number\n",
            "25 is not prime number\n",
            "26 is not prime number\n",
            "27 is not prime number\n",
            "28 is not prime number\n",
            "29 is a prime number\n",
            "30 is not prime number\n",
            "31 is a prime number\n",
            "32 is not prime number\n",
            "33 is not prime number\n",
            "34 is not prime number\n",
            "35 is not prime number\n",
            "36 is not prime number\n",
            "37 is a prime number\n",
            "38 is not prime number\n",
            "39 is not prime number\n",
            "40 is not prime number\n",
            "41 is a prime number\n",
            "42 is not prime number\n",
            "43 is a prime number\n",
            "44 is not prime number\n",
            "45 is not prime number\n",
            "46 is not prime number\n",
            "47 is a prime number\n",
            "48 is not prime number\n",
            "49 is not prime number\n",
            "50 is not prime number\n",
            "51 is not prime number\n",
            "52 is not prime number\n",
            "53 is a prime number\n",
            "54 is not prime number\n",
            "55 is not prime number\n",
            "56 is not prime number\n",
            "57 is not prime number\n",
            "58 is not prime number\n",
            "59 is a prime number\n",
            "60 is not prime number\n",
            "61 is a prime number\n",
            "62 is not prime number\n",
            "63 is not prime number\n",
            "64 is not prime number\n",
            "65 is not prime number\n",
            "66 is not prime number\n",
            "67 is a prime number\n",
            "68 is not prime number\n",
            "69 is not prime number\n",
            "70 is not prime number\n",
            "71 is a prime number\n",
            "72 is not prime number\n",
            "73 is a prime number\n",
            "74 is not prime number\n",
            "75 is not prime number\n",
            "76 is not prime number\n",
            "77 is not prime number\n",
            "78 is not prime number\n",
            "79 is a prime number\n",
            "80 is not prime number\n",
            "81 is not prime number\n",
            "82 is not prime number\n",
            "83 is a prime number\n",
            "84 is not prime number\n",
            "85 is not prime number\n",
            "86 is not prime number\n",
            "87 is not prime number\n",
            "88 is not prime number\n",
            "89 is a prime number\n",
            "90 is not prime number\n",
            "91 is not prime number\n",
            "92 is not prime number\n",
            "93 is not prime number\n",
            "94 is not prime number\n",
            "95 is not prime number\n",
            "96 is not prime number\n",
            "97 is a prime number\n",
            "98 is not prime number\n",
            "99 is not prime number\n",
            "100 is not prime number\n",
            "101 is a prime number\n",
            "102 is not prime number\n",
            "103 is a prime number\n",
            "104 is not prime number\n",
            "105 is not prime number\n",
            "106 is not prime number\n",
            "107 is a prime number\n",
            "108 is not prime number\n",
            "109 is a prime number\n",
            "110 is not prime number\n",
            "111 is not prime number\n",
            "112 is not prime number\n",
            "113 is a prime number\n",
            "114 is not prime number\n",
            "115 is not prime number\n",
            "116 is not prime number\n",
            "117 is not prime number\n",
            "118 is not prime number\n",
            "119 is not prime number\n",
            "120 is not prime number\n",
            "121 is not prime number\n",
            "122 is not prime number\n",
            "123 is not prime number\n",
            "124 is not prime number\n",
            "125 is not prime number\n",
            "126 is not prime number\n",
            "127 is a prime number\n",
            "128 is not prime number\n",
            "129 is not prime number\n",
            "130 is not prime number\n",
            "131 is a prime number\n",
            "132 is not prime number\n",
            "133 is not prime number\n",
            "134 is not prime number\n",
            "135 is not prime number\n",
            "136 is not prime number\n",
            "137 is a prime number\n",
            "138 is not prime number\n",
            "139 is a prime number\n",
            "140 is not prime number\n",
            "141 is not prime number\n",
            "142 is not prime number\n",
            "143 is not prime number\n",
            "144 is not prime number\n",
            "145 is not prime number\n",
            "146 is not prime number\n",
            "147 is not prime number\n",
            "148 is not prime number\n",
            "149 is a prime number\n",
            "150 is not prime number\n",
            "151 is a prime number\n",
            "152 is not prime number\n",
            "153 is not prime number\n",
            "154 is not prime number\n",
            "155 is not prime number\n",
            "156 is not prime number\n",
            "157 is a prime number\n",
            "158 is not prime number\n",
            "159 is not prime number\n",
            "160 is not prime number\n",
            "161 is not prime number\n",
            "162 is not prime number\n",
            "163 is a prime number\n",
            "164 is not prime number\n",
            "165 is not prime number\n",
            "166 is not prime number\n",
            "167 is a prime number\n",
            "168 is not prime number\n",
            "169 is not prime number\n",
            "170 is not prime number\n",
            "171 is not prime number\n",
            "172 is not prime number\n",
            "173 is a prime number\n",
            "174 is not prime number\n",
            "175 is not prime number\n",
            "176 is not prime number\n",
            "177 is not prime number\n",
            "178 is not prime number\n",
            "179 is a prime number\n",
            "180 is not prime number\n",
            "181 is a prime number\n",
            "182 is not prime number\n",
            "183 is not prime number\n",
            "184 is not prime number\n",
            "185 is not prime number\n",
            "186 is not prime number\n",
            "187 is not prime number\n",
            "188 is not prime number\n",
            "189 is not prime number\n",
            "190 is not prime number\n",
            "191 is a prime number\n",
            "192 is not prime number\n",
            "193 is a prime number\n",
            "194 is not prime number\n",
            "195 is not prime number\n",
            "196 is not prime number\n",
            "197 is a prime number\n",
            "198 is not prime number\n",
            "199 is a prime number\n",
            "200 is not prime number\n"
          ]
        }
      ]
    },
    {
      "cell_type": "markdown",
      "source": [
        "**5. Create an iterator class in Python that generates the Fibonacci sequence up to a specified number of terms**"
      ],
      "metadata": {
        "id": "bWmhbvUCd-FI"
      }
    },
    {
      "cell_type": "code",
      "source": [
        "def fibo_num(n):\n",
        "    fib=[0]*(n+1)\n",
        "    if n>0:\n",
        "        fib[1]=1\n",
        "    for i in range(2,n+1,1):\n",
        "        fib[i]=fib[i-1]+fib[i-2]\n",
        "    return iter(fib)"
      ],
      "metadata": {
        "id": "uLz_GXMIeDGd"
      },
      "execution_count": 2,
      "outputs": []
    },
    {
      "cell_type": "code",
      "source": [
        "#passing the sequence of number, that is 5\n",
        "num = 5\n",
        "a=fibo_num(num)\n",
        "for i in range(0, num + 1):\n",
        "    print(next(a))"
      ],
      "metadata": {
        "colab": {
          "base_uri": "https://localhost:8080/"
        },
        "id": "J_ixlllLlTqW",
        "outputId": "39921e5d-d430-48dc-9212-dcfe11bd044a"
      },
      "execution_count": 4,
      "outputs": [
        {
          "output_type": "stream",
          "name": "stdout",
          "text": [
            "0\n",
            "1\n",
            "1\n",
            "2\n",
            "3\n",
            "5\n"
          ]
        }
      ]
    },
    {
      "cell_type": "markdown",
      "source": [
        "**6. Write a generator function in Python that yields the powers of 2 up to a given exponent.**"
      ],
      "metadata": {
        "id": "72-aXigSRtxA"
      }
    },
    {
      "cell_type": "code",
      "source": [
        "def pow_2():\n",
        "    next_val=1\n",
        "    while True:\n",
        "        yield next_val\n",
        "        next_val=next_val*2\n"
      ],
      "metadata": {
        "id": "AIavDnFZRhVE"
      },
      "execution_count": 4,
      "outputs": []
    },
    {
      "cell_type": "code",
      "source": [
        "ob=pow_2()\n",
        "# a=[]\n",
        "for _ in range(0,6,1):\n",
        "    # a.append(next(ob))\n",
        "    print(next(ob),end=\" \")\n",
        "# print(a)"
      ],
      "metadata": {
        "colab": {
          "base_uri": "https://localhost:8080/"
        },
        "id": "1J4PU-8ZeSMO",
        "outputId": "8dfb0f7c-676d-4e59-bd56-ba62ed73cf5a"
      },
      "execution_count": 7,
      "outputs": [
        {
          "output_type": "stream",
          "name": "stdout",
          "text": [
            "1 2 4 8 16 32 "
          ]
        }
      ]
    },
    {
      "cell_type": "markdown",
      "source": [
        "**7. Implement a generator function that reads a file line by line and yields each line as a string**"
      ],
      "metadata": {
        "id": "3VwD9K3QF_PX"
      }
    },
    {
      "cell_type": "code",
      "source": [
        "def read_file_line(path):\n",
        "  with open(path,\"r\") as file:\n",
        "    for line in file:\n",
        "      yield line\n",
        "\n",
        "file_path = \"/content/sim.txt\"\n",
        "op= read_file_line(file_path)\n",
        "print(next(op))\n",
        "print(next(op))\n",
        "print(next(op))"
      ],
      "metadata": {
        "colab": {
          "base_uri": "https://localhost:8080/"
        },
        "id": "r70eYbRCL3nH",
        "outputId": "b83e0071-a601-4d40-f208-ef0fd1f707cb"
      },
      "execution_count": 23,
      "outputs": [
        {
          "output_type": "stream",
          "name": "stdout",
          "text": [
            "Hii Everyone!\n",
            "\n",
            "I'm learning function\n",
            "\n",
            "using Python.\n",
            "\n"
          ]
        }
      ]
    },
    {
      "cell_type": "markdown",
      "source": [
        "**8. Use a lambda function in Python to sort a list of tuples based on the second element of each tuple**\n",
        "\n"
      ],
      "metadata": {
        "id": "QBdH3B4sc6lk"
      }
    },
    {
      "cell_type": "code",
      "source": [
        "tuples_list=[(\"Aeroplane\",3,2),(\"Helicopter\",4,5),(\"Flying jet\",2,7),(\"Rocket\",1,3)]\n",
        "sorted_list = sorted(tuples_list,key=lambda x: x[1]) #x[1] represents 2 elements of each tuple\n",
        "print(sorted_list)"
      ],
      "metadata": {
        "colab": {
          "base_uri": "https://localhost:8080/"
        },
        "id": "LMJpv9BzhH0W",
        "outputId": "611746e6-e804-422e-b167-16b4768e6214"
      },
      "execution_count": 4,
      "outputs": [
        {
          "output_type": "stream",
          "name": "stdout",
          "text": [
            "[('Rocket', 1, 3), ('Flying jet', 2, 7), ('Aeroplane', 3, 2), ('Helicopter', 4, 5)]\n"
          ]
        }
      ]
    },
    {
      "cell_type": "markdown",
      "source": [
        "**9. Write a Python program that uses `map()` to convert a list of temperatures from Celsius to Fahrenheit.**"
      ],
      "metadata": {
        "id": "iECoq0cPP8rx"
      }
    },
    {
      "cell_type": "code",
      "source": [
        "def celsius_to_fahrenheit(celsius):\n",
        "  return (celsius*9/5)+32 #formula for coversion of celsius to fahrenheit\n",
        "celsius_list=[0,25,35,45,55] #temperature list in celsius\n",
        "fahrenheit_temp= list(map(celsius_to_fahrenheit,celsius_list))\n",
        "print(fahrenheit_temp)"
      ],
      "metadata": {
        "colab": {
          "base_uri": "https://localhost:8080/"
        },
        "id": "sILuNGCMP-6D",
        "outputId": "7aa8452d-e660-4289-a87a-04d1ffca035f"
      },
      "execution_count": 6,
      "outputs": [
        {
          "output_type": "stream",
          "name": "stdout",
          "text": [
            "[32.0, 77.0, 95.0, 113.0, 131.0]\n"
          ]
        }
      ]
    },
    {
      "cell_type": "markdown",
      "source": [
        "**10. Create a Python program that uses `filter()` to remove all the vowels from a given string.**"
      ],
      "metadata": {
        "id": "-RbPWQI6O9_R"
      }
    },
    {
      "cell_type": "code",
      "source": [
        "def remove_vowels(s):\n",
        "  vowels=\"aeiouAEIOU\"\n",
        "  #use filter() to remove vowels\n",
        "  filtered_str= list(filter(lambda x: x not in vowels,s))\n",
        "  return filtered_str\n",
        "\n",
        "#given string\n",
        "s= \"Umbrella\"\n",
        "output=remove_vowels(s)\n",
        "print(output)"
      ],
      "metadata": {
        "colab": {
          "base_uri": "https://localhost:8080/"
        },
        "id": "3XJjsYEZPAGH",
        "outputId": "40b65934-ec0d-424b-d97d-26fd1a3c7d40"
      },
      "execution_count": 10,
      "outputs": [
        {
          "output_type": "stream",
          "name": "stdout",
          "text": [
            "['m', 'b', 'r', 'l', 'l']\n"
          ]
        }
      ]
    },
    {
      "cell_type": "markdown",
      "source": [
        "**Imagine an accounting routine used in a book shop. It works on a list with sublists:**\n",
        "**Write a Python program, which returns a list with 2-tuples. Each tuple consists of the order number and the product of the price per item and the quantity. The product should be increased by 10,- € if the value of the order is smaller than 100,00 €.**\n",
        "**Write a Python program using lambda and map**"
      ],
      "metadata": {
        "id": "3ikAp1rmHkqG"
      }
    },
    {
      "cell_type": "code",
      "source": [
        "#first we create list with sublists using book shop table named bookshop_list variable\n",
        "bookshop_list= [[34587,\"Learning python, Mark Lutz\",4,40.95],[98762,\"Programming python, Mark Lutz\",5,56.80],[77226,\"Head First Python, Paul Barry\",3,32.95],[88112,\"Einfuhrung in Python3, Bernd Klein\",3,24.99]]\n",
        "product_order= map(lambda x:(x[0],x[2]*x[3]),bookshop_list) #here two operation will perform so first using map function we assign two value in each tuple where condition satisfy\n",
        "condition_check= map(lambda x:(x[0],x[1]+10) if x[1]<10000 else 0,product_order) # here condition satisfy check\n",
        "print(list(condition_check))"
      ],
      "metadata": {
        "colab": {
          "base_uri": "https://localhost:8080/"
        },
        "id": "tXGMVuZyHCLl",
        "outputId": "a723143b-1a7a-4b2b-e02e-a2d8ee0afd23"
      },
      "execution_count": 4,
      "outputs": [
        {
          "output_type": "stream",
          "name": "stdout",
          "text": [
            "[(34587, 173.8), (98762, 294.0), (77226, 108.85000000000001), (88112, 84.97)]\n"
          ]
        }
      ]
    }
  ]
}